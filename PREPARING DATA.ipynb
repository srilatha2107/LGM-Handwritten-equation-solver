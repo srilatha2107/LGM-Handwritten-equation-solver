{
 "cells": [
  {
   "cell_type": "markdown",
   "id": "25b8b76d",
   "metadata": {},
   "source": [
    "# IMPORTING LIBRARIES"
   ]
  },
  {
   "cell_type": "code",
   "execution_count": 18,
   "id": "3efdee45",
   "metadata": {},
   "outputs": [],
   "source": [
    "import pandas as pd\n",
    "import numpy as np\n",
    "import matplotlib.pyplot as ply\n",
    "import cv2\n",
    "import os\n",
    "from os import listdir\n",
    "from os.path import isfile,join\n",
    "\n"
   ]
  },
  {
   "cell_type": "code",
   "execution_count": 19,
   "id": "2a879c2a",
   "metadata": {},
   "outputs": [],
   "source": [
    "from PIL import Image"
   ]
  },
  {
   "cell_type": "code",
   "execution_count": 21,
   "id": "7ab174b6",
   "metadata": {},
   "outputs": [],
   "source": [
    "def load_image_from_folder(folder):\n",
    "    train_data=[]\n",
    "    #listdit to iterate through all filenames in folder\n",
    "    for filename in os.listdir(folder):\n",
    "        img=cv2.imread(os.path.join(folder,filename),cv2.IMREAD_GRAYSCALE)\n",
    "        img=~img\n",
    "        #invert img used in testing\n",
    "        if img is not None:\n",
    "            _,thresh=cv2.threshold(img,127,255,cv2.THRESH_BINARY)\n",
    "            #upto 127 if greator than 127 eliminate\n",
    "            ctrs=cv2.findContours(thresh,cv2.RETR_EXTERNAL,cv2.CHAIN_APPROX_NONE)[0]\n",
    "            #retr external if you want only parent part\n",
    "            #chain_approx _none: gives all boundary points\n",
    "            #chain_approx_symbol: gives staring and ending point\n",
    "            #now find a maximum w,h possible rectangle tht covers all contour\n",
    "            cnt=sorted(ctrs,key=lambda ctr:cv2.boundingRect(ctr))\n",
    "            w=int(28)\n",
    "            h=int(28)\n",
    "            maxi=0\n",
    "            for c in cnt:\n",
    "                x,y,w,h= cv2.boundingRect(c)\n",
    "                #x,y top left most coordinate \n",
    "                maxi=max(w*h,maxi)\n",
    "                if maxi==w*h:\n",
    "                    x_max=x\n",
    "                    y_max=y\n",
    "                    w_max=w\n",
    "                    h_max=h\n",
    "                    \n",
    "                    #now crop the image \n",
    "                    #add 10 extra margin to avoid errors\n",
    "            im_crop=thresh[y_max:y_max+h_max+10,x_max:x_max+w_max+10]\n",
    "            #covert 3d image to 2d \n",
    "            im_resize=cv2.resize(im_crop,(28,28))\n",
    "            im_resize=np.reshape(im_resize,(784,1))\n",
    "            \n",
    "            train_data.append(im_resize)\n",
    "    return train_data"
   ]
  },
  {
   "cell_type": "markdown",
   "id": "de71ed5e",
   "metadata": {},
   "source": [
    "# LOAD THE DATASET\n"
   ]
  },
  {
   "cell_type": "code",
   "execution_count": 3,
   "id": "329947b6",
   "metadata": {},
   "outputs": [],
   "source": [
    "data=[]"
   ]
  },
  {
   "cell_type": "code",
   "execution_count": 23,
   "id": "0a5d0244",
   "metadata": {},
   "outputs": [
    {
     "name": "stdout",
     "output_type": "stream",
     "text": [
      "33997\n"
     ]
    }
   ],
   "source": [
    "#assign - 10, + 11 and multiply 12\n",
    "data=load_image_from_folder(r\"C:/Users/Srilatha/Desktop/Handwritten equation solver using CNN/extracted_images/-\")\n",
    "len(data)\n",
    "for i in range(0,len(data)):\n",
    "    data[i]=np.append(data[i],[\"10\"])\n",
    "print(len(data))"
   ]
  },
  {
   "cell_type": "code",
   "execution_count": 24,
   "id": "3e05f70b",
   "metadata": {},
   "outputs": [
    {
     "name": "stdout",
     "output_type": "stream",
     "text": [
      "59109\n"
     ]
    }
   ],
   "source": [
    "#assign - 10, + 11 and multiply 12\n",
    "data0=load_image_from_folder(\"C:/Users/Srilatha/Desktop/Handwritten equation solver using CNN/extracted_images/+\")\n",
    "len(data0)\n",
    "for i in range(0,len(data0)):\n",
    "    data0[i]=np.append(data0[i],[\"11\"])\n",
    "data=np.concatenate((data,data0))\n",
    "print(len(data))"
   ]
  },
  {
   "cell_type": "code",
   "execution_count": 25,
   "id": "ba5593bb",
   "metadata": {},
   "outputs": [
    {
     "name": "stdout",
     "output_type": "stream",
     "text": [
      "66023\n"
     ]
    }
   ],
   "source": [
    "data2=load_image_from_folder(r\"C:/Users/Srilatha/Desktop/Handwritten equation solver using CNN/extracted_images/0\")\n",
    "len(data2)\n",
    "for i in range(0,len(data2)):\n",
    "    data2[i]=np.append(data2[i],[\"0\"])\n",
    "data=np.concatenate((data,data2))\n",
    "print(len(data))"
   ]
  },
  {
   "cell_type": "code",
   "execution_count": 37,
   "id": "b12a80a9",
   "metadata": {},
   "outputs": [
    {
     "name": "stdout",
     "output_type": "stream",
     "text": [
      "92543\n"
     ]
    }
   ],
   "source": [
    "#assign - 10, + 11 and multiply 12\n",
    "data3=load_image_from_folder(r\"C:/Users/Srilatha/Desktop/Handwritten equation solver using CNN/extracted_images/1\")\n",
    "len(data3)\n",
    "for i in range(0,len(data3)):\n",
    "    data3[i]=np.append(data3[i],[\"1\"])\n",
    "data=np.concatenate((data,data3))\n",
    "print(len(data))"
   ]
  },
  {
   "cell_type": "code",
   "execution_count": 39,
   "id": "bec07ca1",
   "metadata": {},
   "outputs": [
    {
     "name": "stdout",
     "output_type": "stream",
     "text": [
      "129593\n"
     ]
    }
   ],
   "source": [
    "#assign - 10, + 11 and multiply 12\n",
    "data4=load_image_from_folder(r\"C:/Users/Srilatha/Desktop/Handwritten equation solver using CNN/extracted_images/2\")\n",
    "len(data4)\n",
    "for i in range(0,len(data4)):\n",
    "    data4[i]=np.append(data4[i],[\"2\"])\n",
    "data=np.concatenate((data,data4))\n",
    "print(len(data))"
   ]
  },
  {
   "cell_type": "code",
   "execution_count": 40,
   "id": "b42ee659",
   "metadata": {},
   "outputs": [
    {
     "name": "stdout",
     "output_type": "stream",
     "text": [
      "140502\n"
     ]
    }
   ],
   "source": [
    "#assign - 10, + 11 and multiply 12\n",
    "data5=load_image_from_folder(r\"C:/Users/Srilatha/Desktop/Handwritten equation solver using CNN/extracted_images/3\")\n",
    "len(data5)\n",
    "for i in range(0,len(data5)):\n",
    "    data5[i]=np.append(data5[i],[\"3\"])\n",
    "data=np.concatenate((data,data5))\n",
    "print(len(data))"
   ]
  },
  {
   "cell_type": "code",
   "execution_count": 41,
   "id": "47281a40",
   "metadata": {},
   "outputs": [
    {
     "name": "stdout",
     "output_type": "stream",
     "text": [
      "147898\n"
     ]
    }
   ],
   "source": [
    "#assign - 10, + 11 and multiply 12\n",
    "data6=load_image_from_folder(r\"C:/Users/Srilatha/Desktop/Handwritten equation solver using CNN/extracted_images/4\")\n",
    "len(data6)\n",
    "for i in range(0,len(data6)):\n",
    "    data6[i]=np.append(data6[i],[\"4\"])\n",
    "data=np.concatenate((data,data6))\n",
    "print(len(data))"
   ]
  },
  {
   "cell_type": "code",
   "execution_count": 42,
   "id": "7f2e45ba",
   "metadata": {},
   "outputs": [
    {
     "name": "stdout",
     "output_type": "stream",
     "text": [
      "151443\n"
     ]
    }
   ],
   "source": [
    "#assign - 10, + 11 and multiply 12\n",
    "data7=load_image_from_folder(r\"C:/Users/Srilatha/Desktop/Handwritten equation solver using CNN/extracted_images/5\")\n",
    "len(data7)\n",
    "for i in range(0,len(data7)):\n",
    "    data7[i]=np.append(data7[i],[\"5\"])\n",
    "data=np.concatenate((data,data7))\n",
    "print(len(data))"
   ]
  },
  {
   "cell_type": "code",
   "execution_count": 43,
   "id": "a2ebf209",
   "metadata": {},
   "outputs": [
    {
     "name": "stdout",
     "output_type": "stream",
     "text": [
      "154561\n"
     ]
    }
   ],
   "source": [
    "#assign - 10, + 11 and multiply 12\n",
    "data8=load_image_from_folder(r\"C:/Users/Srilatha/Desktop/Handwritten equation solver using CNN/extracted_images/6\")\n",
    "len(data8)\n",
    "for i in range(0,len(data8)):\n",
    "    data8[i]=np.append(data8[i],[\"6\"])\n",
    "data=np.concatenate((data,data8))\n",
    "print(len(data))"
   ]
  },
  {
   "cell_type": "code",
   "execution_count": 44,
   "id": "074892a4",
   "metadata": {},
   "outputs": [
    {
     "name": "stdout",
     "output_type": "stream",
     "text": [
      "157470\n"
     ]
    }
   ],
   "source": [
    "#assign - 10, + 11 and multiply 12\n",
    "data9=load_image_from_folder(r\"C:/Users/Srilatha/Desktop/Handwritten equation solver using CNN/extracted_images/7\")\n",
    "len(data9)\n",
    "for i in range(0,len(data9)):\n",
    "    data9[i]=np.append(data9[i],[\"7\"])\n",
    "data=np.concatenate((data,data9))\n",
    "print(len(data))"
   ]
  },
  {
   "cell_type": "code",
   "execution_count": 45,
   "id": "d8def70d",
   "metadata": {},
   "outputs": [
    {
     "name": "stdout",
     "output_type": "stream",
     "text": [
      "160538\n"
     ]
    }
   ],
   "source": [
    "#assign - 10, + 11 and multiply 12\n",
    "data10=load_image_from_folder(r\"C:/Users/Srilatha/Desktop/Handwritten equation solver using CNN/extracted_images/8\")\n",
    "len(data10)\n",
    "for i in range(0,len(data10)):\n",
    "    data10[i]=np.append(data10[i],[\"8\"])\n",
    "data=np.concatenate((data,data10))\n",
    "print(len(data))"
   ]
  },
  {
   "cell_type": "code",
   "execution_count": 46,
   "id": "a0a0c261",
   "metadata": {},
   "outputs": [
    {
     "name": "stdout",
     "output_type": "stream",
     "text": [
      "164275\n"
     ]
    }
   ],
   "source": [
    "#assign - 10, + 11 and multiply 12\n",
    "data11=load_image_from_folder(r\"C:/Users/Srilatha/Desktop/Handwritten equation solver using CNN/extracted_images/9\")\n",
    "len(data11)\n",
    "for i in range(0,len(data11)):\n",
    "    data11[i]=np.append(data11[i],[\"9\"])\n",
    "data=np.concatenate((data,data11))\n",
    "print(len(data))"
   ]
  },
  {
   "cell_type": "code",
   "execution_count": 47,
   "id": "8677746f",
   "metadata": {},
   "outputs": [
    {
     "name": "stdout",
     "output_type": "stream",
     "text": [
      "167526\n"
     ]
    }
   ],
   "source": [
    "#assign - 10, + 11 and multiply 12\n",
    "data12=load_image_from_folder(r\"C:/Users/Srilatha/Desktop/Handwritten equation solver using CNN/extracted_images/times\")\n",
    "len(data12)\n",
    "for i in range(0,len(data12)):\n",
    "    data12[i]=np.append(data12[i],[\"12\"])\n",
    "data=np.concatenate((data,data12))\n",
    "print(len(data))"
   ]
  },
  {
   "cell_type": "markdown",
   "id": "9609f7fa",
   "metadata": {},
   "source": [
    "# Convert dataframe to csv file"
   ]
  },
  {
   "cell_type": "code",
   "execution_count": 48,
   "id": "44c894cc",
   "metadata": {},
   "outputs": [],
   "source": [
    "df=pd.DataFrame(data,index=None)\n",
    "df.to_csv('train_final.csv',index=False )"
   ]
  },
  {
   "cell_type": "code",
   "execution_count": null,
   "id": "28bffd62",
   "metadata": {},
   "outputs": [],
   "source": []
  }
 ],
 "metadata": {
  "kernelspec": {
   "display_name": "Python 3",
   "language": "python",
   "name": "python3"
  },
  "language_info": {
   "codemirror_mode": {
    "name": "ipython",
    "version": 3
   },
   "file_extension": ".py",
   "mimetype": "text/x-python",
   "name": "python",
   "nbconvert_exporter": "python",
   "pygments_lexer": "ipython3",
   "version": "3.8.8"
  }
 },
 "nbformat": 4,
 "nbformat_minor": 5
}
